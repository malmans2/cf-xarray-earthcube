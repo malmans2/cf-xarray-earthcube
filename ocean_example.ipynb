{
 "cells": [
  {
   "cell_type": "markdown",
   "metadata": {},
   "source": [
    "# cf_xarray : Scale your analysis across datasets with less data wrangling and more metadata handling\n",
    "\n",
    "_Deepak Cherian, Mattia Almansi, Pascal Bourgault_\n",
    "\n",
    "There has been an explosion in the availability of terabyte to petabyte-scale\n",
    "geoscience datasets, particularly on the cloud, prompting the development of\n",
    "scalable tools and workflows to handle such big datasets by Earthcube projects\n",
    "such as Pangeo. There is a parallel need for tools that enable the analysis of\n",
    "datasets from a wide variety of sources that each have their own nomenclature.\n",
    "\n",
    "Xarray is a python package that enables easy and convenient labelled data\n",
    "analytics by allowing users to leverage metadata such as dimension names and\n",
    "coordinate labels. cf_xarray is an open-source Apache licensed Xarray extension\n",
    "that decodes Climate and Forecast (CF) Metadata conventions adopted by the\n",
    "geoscience community, allowing users to extensively use standardized metadata\n",
    "such as “standard names” in their analysis pipelines. For example, the zonal\n",
    "average of an Xarray dataset `ds` is seamlessly calculated as\n",
    "`ds.cf.mean(\"longitude\")` on a wide variety of CF-compliant datasets, regardless\n",
    "of the actual name of the “longitude” variable (e.g. “lon”, “lon_rho”, “long”).\n",
    "cf_xarray also provides tools and heuristics to optionally guess absent\n",
    "attributes, allowing usage on incompletely tagged datasets. cf_xarray is now\n",
    "seeing adoption in other packages such as xESMF, a package for regridding of\n",
    "Xarray datasets; and NOAA’s Model Diagnostic Task Force (MDTF) diagnostic\n",
    "workflow for validating model simulations.\n",
    "\n",
    "Our notebook will demonstrate the use of cf_xarray to build an analysis pipeline\n",
    "that works on a wide variety of cloud-available datasets such as the CMIP6\n",
    "archive, the CESM Large Ensemble, various satellite datasets, and that uses\n",
    "xESMF to regrid this wide variety of datasets to a common grid to facilitate\n",
    "analysis of anomalies.\n"
   ]
  },
  {
   "cell_type": "markdown",
   "metadata": {},
   "source": [
    "## Imports\n"
   ]
  },
  {
   "cell_type": "code",
   "execution_count": null,
   "metadata": {},
   "outputs": [],
   "source": [
    "import cf_xarray\n",
    "\n",
    "import xarray as xr\n",
    "import intake\n",
    "import dask\n",
    "\n",
    "import matplotlib.pyplot as plt\n",
    "\n",
    "dask.config.set(**{\"array.slicing.split_large_chunks\": False})"
   ]
  },
  {
   "cell_type": "markdown",
   "metadata": {},
   "source": [
    "## Open example datasets\n",
    "\n",
    "The following functions are used in this notebook to create an example dataset.\n"
   ]
  },
  {
   "cell_type": "code",
   "execution_count": null,
   "metadata": {},
   "outputs": [],
   "source": [
    "def assign_coordinates_and_cell_measures(ds):\n",
    "\n",
    "    # Some CF metadata is missing in the example dataset.\n",
    "    # CF-compliant datasets do not need this step.\n",
    "    # Furthermore, functions to automatically assign missing coordinates\n",
    "    # and measures metadata will be implemented in cf_xarray:\n",
    "    # https://github.com/xarray-contrib/cf-xarray/issues/201\n",
    "\n",
    "    for varname, variable in ds.data_vars.items():\n",
    "\n",
    "        # Add coordinates attribute\n",
    "        coordinates = []\n",
    "        for coord in sum(ds.cf.coordinates.values(), []):\n",
    "            if set(ds[coord].dims) <= set(variable.dims):\n",
    "                coordinates.append(coord)\n",
    "        if coordinates:\n",
    "            variable.attrs[\"coordinates\"] = \" \".join(coordinates)\n",
    "        else:\n",
    "            variable.attrs.pop(\"coordinates\", None)\n",
    "\n",
    "        # Add cell_measures attribute\n",
    "        cell_measures = {}\n",
    "        for stdname in {\"cell_thickness\", \"cell_area\", \"ocean_volume\"} & set(\n",
    "            ds.cf.standard_names\n",
    "        ):\n",
    "            key = stdname.split(\"_\")[-1]\n",
    "            value = ds.cf.standard_names[stdname]\n",
    "            for measure in value:\n",
    "                if (\n",
    "                    set(ds[measure].dims) <= set(variable.dims)\n",
    "                    and measure != varname\n",
    "                ):\n",
    "                    cell_measures[key] = measure\n",
    "        if cell_measures:\n",
    "            variable.attrs[\"cell_measures\"] = \" \".join(\n",
    "                [f\"{k}: {v}\" for k, v in cell_measures.items()]\n",
    "            )\n",
    "        else:\n",
    "            variable.attrs.pop(\"cell_measures\", None)\n",
    "\n",
    "\n",
    "# MOM6\n",
    "# Open grid and variables, then merge\n",
    "grid = xr.open_dataset(\"data/ocean_grid_sym_OM4_05.nc\")\n",
    "ds = xr.open_dataset(\n",
    "    \"http://35.188.34.63:8080/thredds/dodsC/OM4p5/ocean_monthly_z.200301-200712.nc4\",\n",
    "    chunks={\"time\": 1, \"z_l\": 5},\n",
    ")\n",
    "mom6_ds = xr.merge([grid, ds], compat=\"override\")\n",
    "\n",
    "# Illustrate the equivalent of a curvilinear grid case,\n",
    "# where axes and coordinates are different\n",
    "axes = [\"xh\", \"xq\", \"yh\", \"yq\"]\n",
    "mom6_ds = mom6_ds.drop_vars(axes)\n",
    "mom6_ds = mom6_ds.assign_coords({axis: mom6_ds[axis] for axis in axes})\n",
    "mom6_ds = mom6_ds.set_coords(\n",
    "    [\n",
    "        var\n",
    "        for var in mom6_ds.variables\n",
    "        for prefix in [\"geo\"]\n",
    "        if var.startswith(prefix)\n",
    "    ]\n",
    ")\n",
    "assign_coordinates_and_cell_measures(mom6_ds)\n",
    "\n",
    "# CMIP6\n",
    "col = intake.open_esm_datastore(\n",
    "    \"https://storage.googleapis.com/cmip6/pangeo-cmip6.json\"\n",
    ")\n",
    "cat = col().search(\n",
    "    table_id=\"Omon\",\n",
    "    grid_label=\"gn\",\n",
    "    source_id=\"GFDL-CM4\",\n",
    "    experiment_id=[\"historical\"],\n",
    "    variable_id=[\"thetao\", \".*cello\"],\n",
    ")\n",
    "ddict = cat.to_dataset_dict(\n",
    "    zarr_kwargs={\n",
    "        \"consolidated\": True,\n",
    "        \"decode_times\": True,\n",
    "        \"use_cftime\": True,\n",
    "    }\n",
    ")\n",
    "_, cmip6_ds = ddict.popitem()\n",
    "assign_coordinates_and_cell_measures(cmip6_ds)"
   ]
  },
  {
   "cell_type": "markdown",
   "metadata": {},
   "source": [
    "# `cf_xarray` features:\n"
   ]
  },
  {
   "cell_type": "markdown",
   "metadata": {},
   "source": [
    "## 1. Wrapped functions\n",
    "\n",
    "When `cf_xarray` is imported, the `cf` accessor is automatically added to any\n",
    "`xarray` object.  \n",
    "`cf_xarray` is able to wrap most of `xarray` functions.\n"
   ]
  },
  {
   "cell_type": "code",
   "execution_count": null,
   "metadata": {},
   "outputs": [],
   "source": [
    "# cf_xarray accessor has been added to the xarray object\n",
    "assert hasattr(mom6_ds, \"cf\")\n",
    "\n",
    "# For example, we can apply mean along any dimensions using either xarray or cf_xarray.\n",
    "# cf_xarray adds the understanding of CF conventions.\n",
    "# Therefore, .cf.mean() accepts either dimensions names or CF keys.\n",
    "for obj in [mom6_ds, mom6_ds.cf]:\n",
    "    assert hasattr(obj, \"mean\")"
   ]
  },
  {
   "cell_type": "markdown",
   "metadata": {},
   "source": [
    "## 2. Utility functions\n",
    "\n",
    "`cf_xarray` also adds several utility functions to work with CF metadata.  \n",
    "For example, in the cell below, we use `cf_xarray` to identify, guess, and add\n",
    "missing CF metadata.\n"
   ]
  },
  {
   "cell_type": "code",
   "execution_count": null,
   "metadata": {},
   "outputs": [],
   "source": [
    "mom6_ds = mom6_ds.cf.guess_coord_axis(verbose=True)"
   ]
  },
  {
   "cell_type": "markdown",
   "metadata": {},
   "source": [
    "## 3. Dictionaries mapping CF keys to variable names\n",
    "\n",
    "The example object contains variables lying on staggered grids.  \n",
    "Therefore, a CF key can be associated with multiple variables.  \n",
    "`cf_xarray` provides several dictionaries mapping CF keys to lists of variable\n",
    "names, such as:\n",
    "\n",
    "- `.cf.axes`\n",
    "- `.cf.coordinates`\n",
    "- `.cf.cell_measures`\n",
    "- `.cf.standard_names`\n",
    "- `.cf.bounds`\n",
    "\n",
    "The representation of `cf_xarray` accessor is a handy tool to explore all CF\n",
    "metadata.\n"
   ]
  },
  {
   "cell_type": "code",
   "execution_count": null,
   "metadata": {},
   "outputs": [],
   "source": [
    "mom6_ds.cf"
   ]
  },
  {
   "cell_type": "markdown",
   "metadata": {},
   "source": [
    "## 4. Get variables using CF keys\n",
    "\n",
    "CF metadata precisely describes the physical quantities being represented by all\n",
    "variables.\n"
   ]
  },
  {
   "cell_type": "code",
   "execution_count": null,
   "metadata": {},
   "outputs": [],
   "source": [
    "# Extract oceanic bathymetry using the appropriate standard name\n",
    "xr_da = mom6_ds[\"deptho\"]\n",
    "cf_da = mom6_ds.cf[\"sea_floor_depth_below_geoid\"]\n",
    "cf_da"
   ]
  },
  {
   "cell_type": "markdown",
   "metadata": {},
   "source": [
    "`cf_xarray` decodes CF metadata linking variables with each other (e.g.,\n",
    "`coordinates`, `cell_measures`, `ancillary_variables`).  \n",
    "As opposed to `xr_da`, `cf_da` extracted in the previous cell contains all\n",
    "`cell_measures` associated with the variable extracted.\n"
   ]
  },
  {
   "cell_type": "code",
   "execution_count": null,
   "metadata": {},
   "outputs": [],
   "source": [
    "additional_coords = set(cf_da.coords) - set(xr_da.coords)\n",
    "print(\"Cell measure extracted by cf_xarray:\", additional_coords)\n",
    "mom6_ds[list(additional_coords)[0]]"
   ]
  },
  {
   "cell_type": "markdown",
   "metadata": {},
   "source": [
    "## 5. Automagically set optional arguments\n",
    "\n",
    "`cf_xarray` sets some of the optional keyword arguments of wrapped functions.  \n",
    "As opposed to `xarray`, in the example below `cf_xarray` assigns the appropriate\n",
    "coordinates to the plot axes (i.e., longitude and latitude).\n"
   ]
  },
  {
   "cell_type": "code",
   "execution_count": null,
   "metadata": {},
   "outputs": [],
   "source": [
    "fig, (xr_ax, cf_ax) = plt.subplots(1, 2, figsize=(12, 4))\n",
    "\n",
    "# xarray plot\n",
    "xr_da.plot(ax=xr_ax)\n",
    "xr_ax.set_title(\"xarray\")\n",
    "# cf_xarray plot\n",
    "cf_da.cf.plot(ax=cf_ax)\n",
    "cf_ax.set_title(\"cf_xarray\")\n",
    "\n",
    "plt.tight_layout()"
   ]
  },
  {
   "cell_type": "markdown",
   "metadata": {},
   "source": [
    "## 6. Expand CF keys\n",
    "\n",
    "As mentioned above, the example dataset is characterized by multiple dimensions\n",
    "associated with the same spatial axes.  \n",
    "Such information is decoded by `cf_xarray` and is used under the hood of wrapped\n",
    "functions. In the example below, the CF Axes keys (i.e., \"X\", \"Y\", and \"Z\") are\n",
    "expanded and multiple dimensions are sliced at once:\n"
   ]
  },
  {
   "cell_type": "code",
   "execution_count": null,
   "metadata": {},
   "outputs": [],
   "source": [
    "mom6_ds_sliced = mom6_ds.cf.isel(\n",
    "    X=slice(10), Y=slice(10), Z=slice(10), T=slice(10)\n",
    ")\n",
    "print(\"Original dataset sizes:\", dict(mom6_ds.sizes))\n",
    "print(\"  Sliced dataset sizes:\", dict(mom6_ds_sliced.sizes))"
   ]
  },
  {
   "cell_type": "markdown",
   "metadata": {},
   "source": [
    "# A comprehensive example\n",
    "\n",
    "One of the advantages of using `cf_xarray` is that the same code can be applied\n",
    "to a wide variety of CF compliant objects that each has their own\n",
    "nomenclature.  \n",
    "In the example below, we define a function that uses many `cf_xarray` features,\n",
    "then we apply to objects with different dimension and coordinate names.\n"
   ]
  },
  {
   "cell_type": "code",
   "execution_count": null,
   "metadata": {},
   "outputs": [],
   "source": [
    "def plot_top_10m_temp_anomaly(ds, **kwargs):\n",
    "\n",
    "    # Compute and plot line\n",
    "    with xr.set_options(keep_attrs=True):\n",
    "        # Extract temperature using\n",
    "        da = ds.cf[\"sea_water_potential_temperature\"]\n",
    "        # Fill wights missing values with zeros\n",
    "        da = da.cf.assign_coords(volume=da.cf.coords[\"volume\"].fillna(0))\n",
    "        # Select temperature in the top 10m in 2003\n",
    "        da = da.cf.sel(T=\"2003\", Z=slice(0, 10))\n",
    "        # Compute weighted mean\n",
    "        da = da.cf.weighted(\"volume\").mean([\"X\", \"Y\", \"Z\"])\n",
    "        # Subtract climatology\n",
    "        da = da - da.cf.mean(\"T\")\n",
    "\n",
    "    # Update metadata\n",
    "    da.attrs[\"standard_name\"] += \"_anomaly\"\n",
    "    da.attrs[\"long_name\"] += \" Anomaly\"\n",
    "\n",
    "    # Plot\n",
    "    da.squeeze(drop=True).cf.plot(**kwargs)\n",
    "\n",
    "\n",
    "plot_top_10m_temp_anomaly(mom6_ds, label=\"mom6_ds\")\n",
    "plot_top_10m_temp_anomaly(cmip6_ds, label=\"cmip6_ds\")\n",
    "_ = plt.legend()"
   ]
  },
  {
   "cell_type": "markdown",
   "metadata": {},
   "source": [
    "Alternatively, `cf_xarray` provides utility functions to rename variables and\n",
    "dimensions in one object to match another object. Matching variables/dimensions\n",
    "are determined using CF metadata.\n"
   ]
  },
  {
   "cell_type": "code",
   "execution_count": null,
   "metadata": {},
   "outputs": [],
   "source": [
    "mom6_da = mom6_ds.cf[\"sea_water_potential_temperature\"]\n",
    "cmip6_da = cmip6_ds.cf[\"sea_water_potential_temperature\"]\n",
    "renamed_mom6_da = mom6_da.cf.rename_like(cmip6_da)\n",
    "print(\"        MOM6 dimensions:\", mom6_da.dims)\n",
    "print(\"       CMIP6 dimensions:\", cmip6_da.dims)\n",
    "print(\"renamed MOM6 dimensions:\", renamed_mom6_da.dims)"
   ]
  }
 ],
 "metadata": {
  "kernelspec": {
   "display_name": "Python 3",
   "language": "python",
   "name": "python3"
  },
  "language_info": {
   "codemirror_mode": {
    "name": "ipython",
    "version": 3
   },
   "file_extension": ".py",
   "mimetype": "text/x-python",
   "name": "python",
   "nbconvert_exporter": "python",
   "pygments_lexer": "ipython3",
   "version": "3.7.8"
  }
 },
 "nbformat": 4,
 "nbformat_minor": 4
}
