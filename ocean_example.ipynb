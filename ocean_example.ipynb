{
 "cells": [
  {
   "cell_type": "code",
   "execution_count": null,
   "metadata": {},
   "outputs": [],
   "source": [
    "import xarray as xr\n",
    "import cf_xarray\n",
    "import dask\n",
    "\n",
    "dask.config.set(**{\"array.slicing.split_large_chunks\": False})"
   ]
  },
  {
   "cell_type": "code",
   "execution_count": null,
   "metadata": {},
   "outputs": [],
   "source": [
    "def open_example_dataset():\n",
    "    # Open dataset\n",
    "    grid = xr.open_dataset(\"data/ocean_grid_sym_OM4_05.nc\")\n",
    "    ds = xr.open_dataset(\n",
    "        \"http://35.188.34.63:8080/thredds/dodsC/OM4p5/ocean_monthly_z.200301-200712.nc4\",\n",
    "        chunks={\"time\": 1},\n",
    "    )\n",
    "    ds = xr.merge([grid, ds], compat=\"override\")\n",
    "\n",
    "    # Generalize to show curvilinear grid case where axes and coordinates are different\n",
    "    axes = [\"xh\", \"xq\", \"yh\", \"yq\"]\n",
    "    ds = ds.drop_vars(axes)\n",
    "    ds = ds.assign_coords({axis: ds[axis] for axis in axes})\n",
    "    ds = ds.set_coords(\n",
    "        [\n",
    "            var\n",
    "            for var in ds.variables\n",
    "            for prefix in [\"geo\"]\n",
    "            if var.startswith(prefix)\n",
    "        ]\n",
    "    )\n",
    "\n",
    "    return ds\n",
    "\n",
    "\n",
    "def assign_coordinates_and_cell_measures(ds):\n",
    "\n",
    "    # Add missing attributes (To implement in cf_xarray)\n",
    "    for varname, variable in ds.data_vars.items():\n",
    "        coordinates = []\n",
    "        for coord in sum(ds.cf.coordinates.values(), []):\n",
    "            if set(ds[coord].dims) <= set(variable.dims):\n",
    "                coordinates.append(coord)\n",
    "        if coordinates:\n",
    "            variable.attrs[\"coordinates\"] = \" \".join(coordinates)\n",
    "        else:\n",
    "            variable.attrs.pop(\"coordinates\", None)\n",
    "\n",
    "        cell_measures = {}\n",
    "        for stdname in (\"cell_thickness\", \"cell_area\", \"ocean_volume\"):\n",
    "            key = stdname.split(\"_\")[-1]\n",
    "            value = ds.cf.standard_names[stdname]\n",
    "            for measure in value:\n",
    "                if (\n",
    "                    set(ds[measure].dims) <= set(variable.dims)\n",
    "                    and measure != varname\n",
    "                ):\n",
    "                    cell_measures[key] = measure\n",
    "        if cell_measures:\n",
    "            variable.attrs[\"cell_measures\"] = \" \".join(\n",
    "                [f\"{k}: {v}\" for k, v in cell_measures.items()]\n",
    "            )\n",
    "        else:\n",
    "            variable.attrs.pop(\"cell_measures\", None)"
   ]
  },
  {
   "cell_type": "code",
   "execution_count": null,
   "metadata": {},
   "outputs": [],
   "source": [
    "ds = open_example_dataset()\n",
    "ds"
   ]
  },
  {
   "cell_type": "code",
   "execution_count": null,
   "metadata": {},
   "outputs": [],
   "source": [
    "# Show cf-xarray guessing function\n",
    "ds = ds.cf.guess_coord_axis(verbose=True)\n",
    "assign_coordinates_and_cell_measures(ds)"
   ]
  },
  {
   "cell_type": "code",
   "execution_count": null,
   "metadata": {},
   "outputs": [],
   "source": [
    "# Use cf-xarray to assign coordinates and cell measures\n",
    "ds.cf"
   ]
  }
 ],
 "metadata": {
  "kernelspec": {
   "display_name": "Python 3",
   "language": "python",
   "name": "python3"
  },
  "language_info": {
   "codemirror_mode": {
    "name": "ipython",
    "version": 3
   },
   "file_extension": ".py",
   "mimetype": "text/x-python",
   "name": "python",
   "nbconvert_exporter": "python",
   "pygments_lexer": "ipython3",
   "version": "3.9.2"
  }
 },
 "nbformat": 4,
 "nbformat_minor": 4
}
