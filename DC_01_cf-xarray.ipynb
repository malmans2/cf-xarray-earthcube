{
 "cells": [
  {
   "cell_type": "markdown",
   "id": "mineral-neighbor",
   "metadata": {},
   "source": [
    "# cf-xarray: Scale your analysis across datasets with less data wrangling and more metadata handling\n"
   ]
  },
  {
   "cell_type": "markdown",
   "id": "initial-violence",
   "metadata": {},
   "source": [
    "## Author(s)\n",
    "\n",
    "- Author1 = {\"name\": \"Mattia Almansi\", \"affiliation\": \"National Oceanography\n",
    "  Centre\", \"email\": \"mattia.almansi@noc.ac.uk\", \"orcid\": \"0000-0001-6849-3647\"}\n",
    "- Author2 = {\"name\": \"Pascal Bourgault\", \"affiliation\": \"Ouranos Inc.\", \"email\":\n",
    "  \"bourgault.pascal@ouranos.ca\", \"orcid\": \"0000-0003-1192-0403\"}\n",
    "- Author3 = {\"name\": \"Deepak Cherian\", \"affiliation\": \"National Center for\n",
    "  Atmospheric Research\", \"email\": \"deepak@cherian.net\", \"orcid\":\n",
    "  \"0000-0002-6861-8734\"}\n"
   ]
  },
  {
   "cell_type": "markdown",
   "id": "primary-crowd",
   "metadata": {
    "toc": true
   },
   "source": [
    "<h1>Table of Contents<span class=\"tocSkip\"></span></h1>\n",
    "<div class=\"toc\"><ul class=\"toc-item\"><li><span><a href=\"#cf-xarray:-Scale-your-analysis-across-datasets-with-less-data-wrangling-and-more-metadata-handling\" data-toc-modified-id=\"cf-xarray:-Scale-your-analysis-across-datasets-with-less-data-wrangling-and-more-metadata-handling-1\"><span class=\"toc-item-num\">1&nbsp;&nbsp;</span>cf-xarray: Scale your analysis across datasets with less data wrangling and more metadata handling</a></span><ul class=\"toc-item\"><li><span><a href=\"#Author(s)\" data-toc-modified-id=\"Author(s)-1.1\"><span class=\"toc-item-num\">1.1&nbsp;&nbsp;</span>Author(s)</a></span></li><li><span><a href=\"#Purpose\" data-toc-modified-id=\"Purpose-1.2\"><span class=\"toc-item-num\">1.2&nbsp;&nbsp;</span>Purpose</a></span></li><li><span><a href=\"#Technical-contributions\" data-toc-modified-id=\"Technical-contributions-1.3\"><span class=\"toc-item-num\">1.3&nbsp;&nbsp;</span>Technical contributions</a></span></li><li><span><a href=\"#Methodology\" data-toc-modified-id=\"Methodology-1.4\"><span class=\"toc-item-num\">1.4&nbsp;&nbsp;</span>Methodology</a></span></li><li><span><a href=\"#Results\" data-toc-modified-id=\"Results-1.5\"><span class=\"toc-item-num\">1.5&nbsp;&nbsp;</span>Results</a></span></li><li><span><a href=\"#Funding\" data-toc-modified-id=\"Funding-1.6\"><span class=\"toc-item-num\">1.6&nbsp;&nbsp;</span>Funding</a></span></li><li><span><a href=\"#Keywords\" data-toc-modified-id=\"Keywords-1.7\"><span class=\"toc-item-num\">1.7&nbsp;&nbsp;</span>Keywords</a></span></li><li><span><a href=\"#Citation\" data-toc-modified-id=\"Citation-1.8\"><span class=\"toc-item-num\">1.8&nbsp;&nbsp;</span>Citation</a></span></li><li><span><a href=\"#Work-In-Progress---improvements\" data-toc-modified-id=\"Work-In-Progress---improvements-1.9\"><span class=\"toc-item-num\">1.9&nbsp;&nbsp;</span>Work In Progress - improvements</a></span></li><li><span><a href=\"#Suggested-next-steps\" data-toc-modified-id=\"Suggested-next-steps-1.10\"><span class=\"toc-item-num\">1.10&nbsp;&nbsp;</span>Suggested next steps</a></span></li><li><span><a href=\"#Acknowledgements\" data-toc-modified-id=\"Acknowledgements-1.11\"><span class=\"toc-item-num\">1.11&nbsp;&nbsp;</span>Acknowledgements</a></span></li></ul></li><li><span><a href=\"#Setup\" data-toc-modified-id=\"Setup-2\"><span class=\"toc-item-num\">2&nbsp;&nbsp;</span>Setup</a></span><ul class=\"toc-item\"><li><span><a href=\"#Library-import\" data-toc-modified-id=\"Library-import-2.1\"><span class=\"toc-item-num\">2.1&nbsp;&nbsp;</span>Library import</a></span></li></ul></li><li><span><a href=\"#Parameter-definitions\" data-toc-modified-id=\"Parameter-definitions-3\"><span class=\"toc-item-num\">3&nbsp;&nbsp;</span>Parameter definitions</a></span></li><li><span><a href=\"#Data-import\" data-toc-modified-id=\"Data-import-4\"><span class=\"toc-item-num\">4&nbsp;&nbsp;</span>Data import</a></span></li><li><span><a href=\"#Data-processing-and-analysis\" data-toc-modified-id=\"Data-processing-and-analysis-5\"><span class=\"toc-item-num\">5&nbsp;&nbsp;</span>Data processing and analysis</a></span><ul class=\"toc-item\"><li><span><a href=\"#Overview-of-cf-xarray\" data-toc-modified-id=\"Overview-of-cf-xarray-5.1\"><span class=\"toc-item-num\">5.1&nbsp;&nbsp;</span>Overview of cf-xarray</a></span><ul class=\"toc-item\"><li><span><a href=\"#.cf-is-an-entrypoint-for-cf-xarray-functionality\" data-toc-modified-id=\".cf-is-an-entrypoint-for-cf-xarray-functionality-5.1.1\"><span class=\"toc-item-num\">5.1.1&nbsp;&nbsp;</span><code>.cf</code> is an entrypoint for cf-xarray functionality</a></span></li><li><span><a href=\"#Use-CF-metadata-in-standard-xarray-methods\" data-toc-modified-id=\"Use-CF-metadata-in-standard-xarray-methods-5.1.2\"><span class=\"toc-item-num\">5.1.2&nbsp;&nbsp;</span>Use CF metadata in standard xarray methods</a></span></li><li><span><a href=\"#Dictionaries-mapping-CF-keys-to-variable-names\" data-toc-modified-id=\"Dictionaries-mapping-CF-keys-to-variable-names-5.1.3\"><span class=\"toc-item-num\">5.1.3&nbsp;&nbsp;</span>Dictionaries mapping CF keys to variable names</a></span></li><li><span><a href=\"#Dealing-with-incomplete-metadata\" data-toc-modified-id=\"Dealing-with-incomplete-metadata-5.1.4\"><span class=\"toc-item-num\">5.1.4&nbsp;&nbsp;</span>Dealing with incomplete metadata</a></span></li><li><span><a href=\"#Indexing-using-CF-keys\" data-toc-modified-id=\"Indexing-using-CF-keys-5.1.5\"><span class=\"toc-item-num\">5.1.5&nbsp;&nbsp;</span>Indexing using CF keys</a></span></li><li><span><a href=\"#Automagic-plotting\" data-toc-modified-id=\"Automagic-plotting-5.1.6\"><span class=\"toc-item-num\">5.1.6&nbsp;&nbsp;</span>Automagic plotting</a></span></li><li><span><a href=\"#CF-keys-expansion\" data-toc-modified-id=\"CF-keys-expansion-5.1.7\"><span class=\"toc-item-num\">5.1.7&nbsp;&nbsp;</span>CF keys expansion</a></span></li></ul></li><li><span><a href=\"#Use-cases\" data-toc-modified-id=\"Use-cases-5.2\"><span class=\"toc-item-num\">5.2&nbsp;&nbsp;</span>Use cases</a></span><ul class=\"toc-item\"><li><span><a href=\"#Seamlessly-extract-statistics-from-CF-compliant-dataset\" data-toc-modified-id=\"Seamlessly-extract-statistics-from-CF-compliant-dataset-5.2.1\"><span class=\"toc-item-num\">5.2.1&nbsp;&nbsp;</span>Seamlessly extract statistics from CF-compliant dataset</a></span></li><li><span><a href=\"#Standardize-datasets\" data-toc-modified-id=\"Standardize-datasets-5.2.2\"><span class=\"toc-item-num\">5.2.2&nbsp;&nbsp;</span>Standardize datasets</a></span></li><li><span><a href=\"#Regridding-with-xESMF\" data-toc-modified-id=\"Regridding-with-xESMF-5.2.3\"><span class=\"toc-item-num\">5.2.3&nbsp;&nbsp;</span>Regridding with xESMF</a></span></li></ul></li></ul></li></ul></div>\n"
   ]
  },
  {
   "cell_type": "markdown",
   "id": "absent-telling",
   "metadata": {},
   "source": [
    "## Purpose\n",
    "\n",
    "This notebook demonstrates how the `cf-xarray` python package helps climate data\n",
    "scientists process multiple CF-compliant datasets from multiple sources, without\n",
    "knowledge of dataset-specific metadata such as model-specific variable names, by\n",
    "using the widely used [CF conventions](cfconventions.org/).\n",
    "\n",
    "Xarray is a python package that enables easy and convenient labelled data\n",
    "analytics by allowing users to leverage metadata such as dimension names and\n",
    "coordinate labels. Xarray provides two core data structures: DataArray: a\n",
    "container wrapping a single multidimensional array with metadata; and Dataset: a\n",
    "dict-like container of multiple DataArrays.\n",
    "\n",
    "cf_xarray uses xarray's plugin interface, or \"accessors\", to provide extensive\n",
    "functionality on both Datasets and DataArrays under the `.cf` namespace.\n",
    "\n",
    "For example, the zonal average of an Xarray dataset `ds` is seamlessly\n",
    "calculated as `ds.cf.mean(“longitude”)` on a wide variety of CF-compliant\n",
    "datasets, regardless of the actual name of the “longitude” variable (for e.g.\n",
    "`“lon”, “lon_rho”, “long”`).\n",
    "\n",
    "Below we demonstrate the following functionality:\n",
    "\n",
    "1. Seamless extraction of statistics from CF-compliant datasets\n",
    "2. Standardization of datasets\n",
    "3. Regridding with xESMF, with inference of cell coordinates and bounds.\n",
    "\n",
    "This notebook is developed for Python 3.7+.\n",
    "\n",
    "## Technical contributions\n",
    "\n",
    "- development of `cf-xarray`, an extension library that extends `xarray` with\n",
    "  methods aware of the CF convention.\n",
    "\n",
    "## Methodology\n",
    "\n",
    "Quickly describe assumptions and processing steps. Include URLs as necessary.\n",
    "\n",
    "Most cells in this notebook are markdown cells. They describe the expected\n",
    "content of the notebook, steps for formatting and sumitting notebooks, and\n",
    "relevant technologies. The proposed structure and procedures are based on\n",
    "community input and literature (see References)\n",
    "\n",
    "You can use this template as a visual guide, or configure your Jupyter\n",
    "installation such that every notebook opens with this template, in either short\n",
    "of long version. To enable opening notebooks with this template, see\n",
    "instructions for using the Template nbextension, in the Data Processing section.\n",
    "\n",
    "Markdown headings are automatically numbered and organized into a Table of\n",
    "Contents (ToC) using the toc2 nbextenion. See instructions in the Data\n",
    "Processing section.\n",
    "\n",
    "## Results\n",
    "\n",
    "Describe and comment on the most important results. Include images and URLs as\n",
    "necessary.\n",
    "\n",
    "This template presents the general structure of notebooks expected by EarthCube,\n",
    "along with recommendations for additional resources to be created to ensure that\n",
    "the notebook is easy to re-use.\n",
    "\n",
    "## Funding\n",
    "\n",
    "Include references to awards that supported this research. Add as many award\n",
    "references as you need.\n",
    "\n",
    "- Award1 = {\"agency\": \"US National Science Foundation\", \"award_code\": \"1928208\",\n",
    "  \"award_URL\": \"https://www.nsf.gov/awardsearch/showAward?AWD_ID=1928208\"}\n",
    "- Award2 = {\"agency\": \"agency\", \"award_code\": \"award_code\", \"award_URL\":\n",
    "  \"award_URL\"}\n",
    "- Award3 = ...\n",
    "\n",
    "## Keywords\n",
    "\n",
    "Include up to 5 keywords, using the template below.\n",
    "\n",
    "keywords=[\"cf-conventions\", \"xarray\", \"netcdf\"]\n",
    "\n",
    "## Citation\n",
    "\n",
    "Include recommended citation for the notebook.\n",
    "\n",
    "For example: EarthCube Office, 2021. EarthCube Notebook Template. Accessed\n",
    "2/1/2021 at https://github.com/earthcube/NotebookTemplates\n",
    "\n",
    "## Work In Progress - improvements\n",
    "\n",
    "Use this section only if the notebook is not final.\n",
    "\n",
    "Notable TODOs:\n",
    "\n",
    "- todo 1;\n",
    "- todo 2;\n",
    "- todo 3.\n",
    "\n",
    "Notable TODOs:\n",
    "\n",
    "- develop similar template for R, and possibly other languages [7];\n",
    "\n",
    "## Suggested next steps\n",
    "\n",
    "It is common for datasets to not be perfectly CF-compliant. Here we work around\n",
    "these deficiencies using `assign_coordinates_and_cell_measures`. `cf_xarray` is\n",
    "considering adding heuristics to guess such metadata attributes, possibly using\n",
    "other metadata conventions such as SGRID.\n",
    "\n",
    "## Acknowledgements\n",
    "\n",
    "Include any relevant acknowledgements, apart from funding (which was in section\n",
    "1.6)\n",
    "\n",
    "This notebook template extends the original notebook template provided with the\n",
    "jupytemplate extension [5]. It is a result of collaboration between the TAC\n",
    "Working Group and the EarthCube Office.\n",
    "\n",
    "The template is licensed under a\n",
    "<a href=\"http://creativecommons.org/licenses/by/4.0/\">Creative Commons\n",
    "Attribution 4.0 International License.</a>\n"
   ]
  },
  {
   "cell_type": "markdown",
   "id": "agricultural-baltimore",
   "metadata": {},
   "source": [
    "# Setup\n",
    "\n",
    "## Library import\n"
   ]
  },
  {
   "cell_type": "code",
   "execution_count": null,
   "id": "pointed-salem",
   "metadata": {},
   "outputs": [],
   "source": [
    "# The package demonstrated here\n",
    "import cf_xarray as cfxr\n",
    "\n",
    "# For loading shared data\n",
    "import intake\n",
    "\n",
    "# For basic data manipulation\n",
    "import numpy as np\n",
    "import xarray as xr\n",
    "\n",
    "# For regridding\n",
    "import xesmf as xe\n",
    "\n",
    "# Visualizations\n",
    "import matplotlib.pyplot as plt\n",
    "\n",
    "# For parallelization\n",
    "import dask\n",
    "\n",
    "dask.config.set(**{\"array.slicing.split_large_chunks\": False})"
   ]
  },
  {
   "cell_type": "markdown",
   "id": "regional-panama",
   "metadata": {},
   "source": [
    "# Parameter definitions\n"
   ]
  },
  {
   "cell_type": "code",
   "execution_count": null,
   "id": "dried-wonder",
   "metadata": {},
   "outputs": [],
   "source": [
    "# Paths and urls pointing to data\n",
    "MOM6_GRID_PATH = \"./data/ocean_grid_sym_OM4_05.nc\"\n",
    "MOM6_DATA_URL = \"http://35.188.34.63:8080/thredds/dodsC/OM4p5/ocean_monthly_z.200301-200712.nc4\"\n",
    "CMIP6_OCE_CATALOG = \"https://storage.googleapis.com/cmip6/pangeo-cmip6.json\"\n",
    "CMIP6_OCE_EXPERIMENT = dict(\n",
    "    table_id=\"Omon\",\n",
    "    grid_label=\"gn\",\n",
    "    source_id=\"ACCESS-CM2\",\n",
    "    # source_id=\"GFDL-CM4\",\n",
    "    member_id=\"r1i1p1f1\",\n",
    "    experiment_id=[\"historical\"],\n",
    "    variable_id=[\"thetao\", \"volcello\"],\n",
    ")\n",
    "CMIP6_ICE_PATH = \"data/sic_SImon_CCCma-CanESM5_ssp245_r13i1p2f1_2020.nc\"\n",
    "ncep_PATH = \"data/air_temperature.nc\""
   ]
  },
  {
   "cell_type": "markdown",
   "id": "eleven-warren",
   "metadata": {},
   "source": [
    "# Data import\n",
    "\n",
    "This notebook uses a variety of publicly available data:\n",
    "\n",
    "- `ds_mom6`: Data from the Modular Ocean Model - v6\n",
    "- `ds_cmip6_oce`: Ocean Data from the Climate Model Intercomparison Project -\n",
    "  Phase 6\n",
    "- `ds_cmip6_ice_ice`: Ice Data from the Climate Model Intercomparison Project -\n",
    "  Phase 6\n",
    "- `ds_ncep`: Data from the National Centers for Atmospheric Prediction\n",
    "  Reanalysis\n"
   ]
  },
  {
   "cell_type": "code",
   "execution_count": null,
   "id": "personalized-invite",
   "metadata": {},
   "outputs": [],
   "source": [
    "def assign_coordinates_and_cell_measures(ds):\n",
    "\n",
    "    \"\"\"\n",
    "    Functions to add missing CF metadata (coordinates and cell measures).\n",
    "    Fully CF-compliant datasets do not need this pre-processing.\n",
    "    Functions to automatically assign missing coordinates\n",
    "    and measures metadata will be implemented in cf_xarray.\n",
    "    See https://github.com/xarray-contrib/cf-xarray/issues/201\n",
    "\n",
    "    Parameters\n",
    "    ==========\n",
    "    ds: xarray.Dataset\n",
    "        Dataset to modify\n",
    "    \"\"\"\n",
    "\n",
    "    for varname, variable in ds.data_vars.items():\n",
    "\n",
    "        # Add coordinates attribute\n",
    "        coordinates = []\n",
    "        for coord in sum(ds.cf.coordinates.values(), []):\n",
    "            if set(ds[coord].dims) <= set(variable.dims):\n",
    "                coordinates.append(coord)\n",
    "        if coordinates:\n",
    "            variable.attrs[\"coordinates\"] = \" \".join(coordinates)\n",
    "        else:\n",
    "            variable.attrs.pop(\"coordinates\", None)\n",
    "\n",
    "        # Add cell_measures attribute\n",
    "        cell_measures = {}\n",
    "        for stdname in {\"cell_thickness\", \"cell_area\", \"ocean_volume\"} & set(\n",
    "            ds.cf.standard_names\n",
    "        ):\n",
    "            key = stdname.split(\"_\")[-1]\n",
    "            value = ds.cf.standard_names[stdname]\n",
    "            for measure in value:\n",
    "                if (\n",
    "                    set(ds[measure].dims) <= set(variable.dims)\n",
    "                    and measure != varname\n",
    "                ):\n",
    "                    cell_measures[key] = measure\n",
    "        if cell_measures:\n",
    "            variable.attrs[\"cell_measures\"] = \" \".join(\n",
    "                [f\"{k}: {v}\" for k, v in cell_measures.items()]\n",
    "            )\n",
    "        else:\n",
    "            variable.attrs.pop(\"cell_measures\", None)\n",
    "\n",
    "\n",
    "# MOM6\n",
    "# Open grid and data variables, then merge them together to one dataset\n",
    "grid = xr.open_dataset(MOM6_GRID_PATH, chunks={})\n",
    "ds = xr.open_dataset(\n",
    "    MOM6_DATA_URL,\n",
    "    chunks={\"time\": 1},\n",
    ")\n",
    "ds_mom6 = xr.merge([grid, ds], compat=\"override\")\n",
    "\n",
    "# Illustrate the equivalent of a curvilinear grid case,\n",
    "# where axes and coordinates are different\n",
    "axes = [\"xh\", \"xq\", \"yh\", \"yq\"]\n",
    "ds_mom6 = ds_mom6.drop_vars(axes)\n",
    "ds_mom6 = ds_mom6.assign_coords({axis: ds_mom6[axis] for axis in axes})\n",
    "ds_mom6 = ds_mom6.set_coords(\n",
    "    [\n",
    "        var\n",
    "        for var in ds_mom6.variables\n",
    "        for prefix in [\"geo\"]\n",
    "        if var.startswith(prefix)\n",
    "    ]\n",
    ")\n",
    "assign_coordinates_and_cell_measures(ds_mom6)"
   ]
  },
  {
   "cell_type": "code",
   "execution_count": null,
   "id": "336c6aca",
   "metadata": {},
   "outputs": [],
   "source": [
    "# CMIP6 Ocean\n",
    "col = intake.open_esm_datastore(CMIP6_OCE_CATALOG)\n",
    "cat = col().search(**CMIP6_OCE_EXPERIMENT)\n",
    "\n",
    "ddict = cat.to_dataset_dict(\n",
    "    zarr_kwargs={\n",
    "        \"consolidated\": True,\n",
    "        \"decode_times\": True,\n",
    "        \"use_cftime\": True,\n",
    "    }\n",
    ")\n",
    "_, ds_cmip6_oce = ddict.popitem()\n",
    "assign_coordinates_and_cell_measures(ds_cmip6_oce)\n",
    "\n",
    "# CMIP6 Ice\n",
    "ds_cmip6_ice = xr.open_dataset(CMIP6_ICE_PATH)\n",
    "\n",
    "# ncep\n",
    "ds_ncep = xr.tutorial.open_dataset(ncep_PATH)"
   ]
  },
  {
   "cell_type": "markdown",
   "id": "prerequisite-lincoln",
   "metadata": {},
   "source": [
    "# Data processing and analysis\n"
   ]
  },
  {
   "cell_type": "markdown",
   "id": "certified-exchange",
   "metadata": {},
   "source": [
    "## Overview of cf-xarray\n",
    "\n",
    "cf_xarray uses xarray's plugin interface, or \"accessors\", to provide extensive\n",
    "functionality on both Datasets and DataArrays under the `.cf` namespace.\n"
   ]
  },
  {
   "cell_type": "markdown",
   "id": "medical-navigator",
   "metadata": {},
   "source": [
    "### `.cf` is an entrypoint for cf-xarray functionality\n",
    "\n",
    "When `cf_xarray` is imported, the `cf` accessor is automatically added to any\n",
    "`xarray` object.  \n",
    "`cf_xarray` is able to wrap most of `xarray` functions. The repr for\n",
    "`Dataset.cf` prints out a list of detected \"CF names\" and the corresponding\n",
    "dataset-specific variable names. cf_xarray parses the attributes associated with\n",
    "each variable in the Dataset to build these mappings\n"
   ]
  },
  {
   "cell_type": "code",
   "execution_count": null,
   "id": "blond-austria",
   "metadata": {},
   "outputs": [],
   "source": [
    "# After `import cf_xarray`, the cf_xarray accessor has been added to the xarray object\n",
    "ds_mom6.cf"
   ]
  },
  {
   "cell_type": "markdown",
   "id": "cooperative-shoot",
   "metadata": {},
   "source": [
    "### Use CF metadata in standard xarray methods\n",
    "\n",
    "With standard xarray syntax, one would specify the variable names on the RHS of\n",
    "the mappings printed above. With cf_xarray, one can instead use the standardized\n",
    "\"CF names\" on the LHS.\n",
    "\n",
    "For example, the next two cells show two ways of calculating an average along\n",
    "the vertical dimension\n"
   ]
  },
  {
   "cell_type": "code",
   "execution_count": null,
   "id": "honey-danish",
   "metadata": {},
   "outputs": [],
   "source": [
    "ds_mom6.mean([\"z_i\", \"z_l\"])"
   ]
  },
  {
   "cell_type": "code",
   "execution_count": null,
   "id": "automotive-thumbnail",
   "metadata": {},
   "outputs": [],
   "source": [
    "# By calling .cf.mean we can provide \"Z\" which is then rewritten to [\"z_i\", \"z_l\"]\n",
    "# This statement is entirely equivalent to ds_mom6.mean([\"z_i\", \"z_l\"])\n",
    "ds_mom6.cf.mean(\"Z\")"
   ]
  },
  {
   "cell_type": "markdown",
   "id": "straight-romance",
   "metadata": {},
   "source": [
    "cf_xarray knows that `z_i` and `z_l` are `Z` axes because the two variables have\n",
    "a CF-compliant attribute `cartesian_axis: Z`. A full list of criteria used by\n",
    "cf-xarray is documented\n",
    "[here](https://cf-xarray.readthedocs.io/en/latest/criteria.html).\n"
   ]
  },
  {
   "cell_type": "code",
   "execution_count": null,
   "id": "competitive-ranch",
   "metadata": {
    "scrolled": true
   },
   "outputs": [],
   "source": [
    "print(\n",
    "    \"z_i: \",\n",
    "    ds_mom6[\"z_i\"].attrs[\"cartesian_axis\"],\n",
    "    \"\\nz_l: \",\n",
    "    ds_mom6[\"z_l\"].attrs[\"cartesian_axis\"],\n",
    ")"
   ]
  },
  {
   "cell_type": "markdown",
   "id": "stopped-drinking",
   "metadata": {},
   "source": [
    "### Dictionaries mapping CF keys to variable names\n",
    "\n",
    "The example object contains variables lying on staggered grids.  \n",
    "Therefore, a CF key can be associated with multiple variables.  \n",
    "`cf_xarray` provides several properties that return dictionaries mapping CF keys\n",
    "to lists of variable names, such as:\n",
    "\n",
    "- `.cf.axes`\n",
    "- `.cf.coordinates`\n",
    "- `.cf.cell_measures`\n",
    "- `.cf.standard_names`\n",
    "- `.cf.bounds`\n"
   ]
  },
  {
   "cell_type": "code",
   "execution_count": null,
   "id": "decreased-spencer",
   "metadata": {},
   "outputs": [],
   "source": [
    "# maps \"axes\" to variable names\n",
    "ds_mom6.cf.axes"
   ]
  },
  {
   "cell_type": "code",
   "execution_count": null,
   "id": "pressed-brass",
   "metadata": {},
   "outputs": [],
   "source": [
    "# maps CF standard name to variable name\n",
    "ds.cf.standard_names"
   ]
  },
  {
   "cell_type": "markdown",
   "id": "gorgeous-experiment",
   "metadata": {},
   "source": [
    "### Dealing with incomplete metadata\n",
    "\n",
    "The usefulness of cf-xarray fully depends on the amount of CF-compliant metadata\n",
    "present in a dataset. Unfortunately, most datasets have incomplete metadata but\n",
    "in most cases, one can guess appropriate metadata by looking at variable names.\n",
    "\n",
    "We can use `Dataset.cf.guess_coord_axis` to identify, guess, and add missing CF\n",
    "metadata for \"axes\" (\"X\", \"Y\", \"Z\", \"T\") and \"coordinates\" (\"latitude\",\n",
    "\"longitude\", \"time\"). It does so by using regular expressions to parse variable\n",
    "names and make reasonable guesses.\n",
    "\n",
    "We also demonstrate the `verbose` mode so that the user can double check\n",
    "cf_xarray's inferences.\n",
    "\n",
    "First note that no `X` or `Y` axes variables have been detected in the current\n",
    "dataset.\n"
   ]
  },
  {
   "cell_type": "code",
   "execution_count": null,
   "id": "brilliant-jesus",
   "metadata": {},
   "outputs": [],
   "source": [
    "# The \"axes\" property maps axes names 'X', 'Y', 'Z', 'T' to variable names in the dataset\n",
    "# here the metadata only identify 'Z' and 'T'\n",
    "ds_mom6.cf.axes"
   ]
  },
  {
   "cell_type": "code",
   "execution_count": null,
   "id": "valued-assumption",
   "metadata": {},
   "outputs": [],
   "source": [
    "# now we will ask cf_xarray to autoguess more axes\n",
    "ds_mom6 = ds_mom6.cf.guess_coord_axis(verbose=True)"
   ]
  },
  {
   "cell_type": "code",
   "execution_count": null,
   "id": "sorted-liberty",
   "metadata": {},
   "outputs": [],
   "source": [
    "# Now we see that `X` and `Y` axes variables have been detected and the results are sensible\n",
    "ds_mom6.cf.axes"
   ]
  },
  {
   "cell_type": "markdown",
   "id": "played-brooks",
   "metadata": {},
   "source": [
    "### Indexing using CF keys\n",
    "\n",
    "CF metadata precisely describes the physical quantities being represented by all\n",
    "variables. More importantly, it also describes links between different variables\n",
    "in a dataset.\n",
    "\n",
    "here we examine the \"sea floor depth\" variable\n"
   ]
  },
  {
   "cell_type": "code",
   "execution_count": null,
   "id": "adjustable-combat",
   "metadata": {},
   "outputs": [],
   "source": [
    "# Pick out sea floor depth using standard xarray syntax\n",
    "xr_da = ds_mom6[\"deptho\"]\n",
    "xr_da"
   ]
  },
  {
   "cell_type": "markdown",
   "id": "hazardous-contractor",
   "metadata": {},
   "source": [
    "Note that the `cell_methods` attribute indicates that the `areacello` variable\n",
    "contains the appopriate \"cell area\" for this variable. But this variable is not\n",
    "associated with the DataArray (under \"Coordinates\")\n"
   ]
  },
  {
   "cell_type": "code",
   "execution_count": null,
   "id": "fatal-handbook",
   "metadata": {},
   "outputs": [],
   "source": [
    "# Extract oceanic bathymetry using the appropriate standard name\n",
    "cf_da = ds_mom6.cf[\"sea_floor_depth_below_geoid\"]\n",
    "cf_da"
   ]
  },
  {
   "cell_type": "markdown",
   "id": "utility-baseball",
   "metadata": {},
   "source": [
    "Now notice that `areacello` is present under \"Coordinates\". `cf_xarray` decodes\n",
    "CF metadata linking variables with each other (e.g., `coordinates`,\n",
    "`cell_measures`, `ancillary_variables`).  \n",
    "As opposed to `xr_da`, `cf_da` extracted in the previous cell contains all\n",
    "`cell_measures` associated with the variable extracted.\n"
   ]
  },
  {
   "cell_type": "code",
   "execution_count": null,
   "id": "manufactured-bulgaria",
   "metadata": {},
   "outputs": [],
   "source": [
    "additional_coords = set(cf_da.coords) - set(xr_da.coords)\n",
    "print(\"Cell measure extracted by cf_xarray:\", additional_coords)"
   ]
  },
  {
   "cell_type": "markdown",
   "id": "choice-sweden",
   "metadata": {},
   "source": [
    "### Automagic plotting\n",
    "\n",
    "`cf_xarray` automagically sets some optional keyword arguments for plotting\n",
    "functions.  \n",
    "As opposed to `xarray`, in the example below `cf_xarray` assigns the appropriate\n",
    "coordinates to the plot axes (i.e., longitude and latitude). cf_xarray does so\n",
    "by parsing the `\"coordinates\"` attribute to identify the appropriate latitude\n",
    "and longitude variable\n"
   ]
  },
  {
   "cell_type": "code",
   "execution_count": null,
   "id": "grave-distance",
   "metadata": {},
   "outputs": [],
   "source": [
    "fig, (xr_ax, cf_ax) = plt.subplots(1, 2, figsize=(12, 4))\n",
    "\n",
    "# left: xarray plot\n",
    "xr_da.plot(ax=xr_ax)\n",
    "xr_ax.set_title(\"xarray\")\n",
    "# right: cf_xarray plot\n",
    "cf_da.cf.plot(ax=cf_ax)\n",
    "cf_ax.set_title(\"cf_xarray\")\n",
    "\n",
    "plt.tight_layout()"
   ]
  },
  {
   "cell_type": "markdown",
   "id": "similar-tiffany",
   "metadata": {},
   "source": [
    "### CF keys expansion\n",
    "\n",
    "As mentioned above, the example dataset is characterized by multiple dimensions\n",
    "associated with the same spatial axes.  \n",
    "Such information is decoded by `cf_xarray` and is used under the hood of wrapped\n",
    "functions.  \n",
    "In the example below, the CF Axes keys (i.e., \"X\", \"Y\", and \"Z\") are expanded\n",
    "and multiple dimensions are sliced at once:\n"
   ]
  },
  {
   "cell_type": "code",
   "execution_count": null,
   "id": "circular-truth",
   "metadata": {},
   "outputs": [],
   "source": [
    "ds_mom6_sliced = ds_mom6.cf.isel(\n",
    "    X=slice(10), Y=slice(10), Z=slice(10), T=slice(10)\n",
    ")\n",
    "print(\"Original dataset sizes:\", dict(ds_mom6.sizes))\n",
    "print(\"  Sliced dataset sizes:\", dict(ds_mom6_sliced.sizes))"
   ]
  },
  {
   "cell_type": "markdown",
   "id": "ancient-victorian",
   "metadata": {},
   "source": [
    "## Use cases\n"
   ]
  },
  {
   "cell_type": "markdown",
   "id": "promising-width",
   "metadata": {},
   "source": [
    "### Seamlessly extract statistics from CF-compliant dataset\n",
    "\n",
    "`cf_xarray` allows one to use the same code on a wide variety of CF compliant\n",
    "objects that each has their own nomenclature.  \n",
    "In the example below, we define a function that uses many `cf_xarray` features,\n",
    "then we apply to objects with different dimension and coordinate names.\n"
   ]
  },
  {
   "cell_type": "code",
   "execution_count": null,
   "id": "8e246714",
   "metadata": {},
   "outputs": [],
   "source": [
    "def plot_top_10m_temp_anomaly(ds):\n",
    "\n",
    "    # Compute and plot line\n",
    "    with xr.set_options(keep_attrs=True):\n",
    "        # Extract ocean potential temperature\n",
    "        da = ds.cf[\"sea_water_potential_temperature\"]\n",
    "        # Fill missing cell volumes with zeros\n",
    "        da = da.cf.assign_coords(volume=da.cf.coords[\"volume\"].fillna(0))\n",
    "        # Select temperature in the top 10 m in 2003\n",
    "        da = da.cf.sel(T=\"2003\", Z=slice(0, 10))\n",
    "        # Compute volume-weighted mean temperature\n",
    "        da = da.cf.weighted(\"volume\").mean([\"X\", \"Y\", \"Z\"])\n",
    "        # Calculate an anomaly relative to the time mean\n",
    "        da = da - da.cf.mean(\"T\")\n",
    "\n",
    "    # Update metadata\n",
    "    da.attrs[\"standard_name\"] += \"_anomaly\"\n",
    "    da.attrs[\"long_name\"] += \" Anomaly\"\n",
    "\n",
    "    # Plot\n",
    "    return da.squeeze(drop=True)\n",
    "\n",
    "\n",
    "# now run the function on two different datasets\n",
    "# and compare the results\n",
    "plot_top_10m_temp_anomaly(ds_mom6).cf.plot(label=\"ds_mom6\")\n",
    "plot_top_10m_temp_anomaly(ds_cmip6_oce).cf.plot(label=\"ds_cmip6_oce\")\n",
    "plt.legend()"
   ]
  },
  {
   "cell_type": "markdown",
   "id": "banner-kentucky",
   "metadata": {},
   "source": [
    "### Standardize datasets\n",
    "\n",
    "Alternatively, `cf_xarray` provides utility functions to rename variables and\n",
    "dimensions in one object to match another object.  \n",
    "Matching variables/dimensions are determined using CF metadata.\n"
   ]
  },
  {
   "cell_type": "code",
   "execution_count": null,
   "id": "annoying-mills",
   "metadata": {},
   "outputs": [],
   "source": [
    "mom6_da = ds_mom6.cf[\"sea_water_potential_temperature\"]\n",
    "cmip6_da = ds_cmip6_oce.cf[\"sea_water_potential_temperature\"]\n",
    "renamed_mom6_da = mom6_da.cf.rename_like(cmip6_da)\n",
    "print(\"        MOM6 dimensions:\", mom6_da.dims)\n",
    "print(\"       CMIP6 dimensions:\", cmip6_da.dims)\n",
    "print(\"renamed MOM6 dimensions:\", renamed_mom6_da.dims)"
   ]
  },
  {
   "cell_type": "markdown",
   "id": "jewish-cooperation",
   "metadata": {},
   "source": [
    "### Regridding with xESMF\n",
    "\n",
    "`cf-xarray` is used by [`xESMF`](https://pangeo-xesmf.readthedocs.io), a\n",
    "regridding package, wrapping the powerful Fortran libray \"ESMF\".  \n",
    "This example will regrid sea ice concentration data extracted from the\n",
    "CCCma-CanESM5 model, a participant in the CMIP6 experiment.\n",
    "\n",
    "Our sea ice data comes in a tripolar grid.\n",
    "\n",
    "The target grid is the NCEP reanalysis dataset that ships with xarray. It has a\n",
    "regular grid.\n"
   ]
  },
  {
   "cell_type": "code",
   "execution_count": null,
   "id": "welcome-genesis",
   "metadata": {},
   "outputs": [],
   "source": [
    "# Let's look at the grid shape itself and the data for one time step\n",
    "fig, axs = plt.subplots(ncols=2, figsize=(12, 4))\n",
    "\n",
    "# Notice how with .cf we will use the same keyword arguments\n",
    "# Although here we explicitely pass the coordinate standard names for the plot axes,\n",
    "# cf_xarray default scatter plot would produce the same results.\n",
    "scatter_kwargs = dict(x=\"longitude\", y=\"latitude\", s=0.1)\n",
    "\n",
    "# CMIP6: Input grid\n",
    "ds_cmip6_ice.cf.plot.scatter(**scatter_kwargs, ax=axs[0])\n",
    "axs[0].set_title(\n",
    "    \"The input horizontal grid points as seen on a lat/lon map.\"\n",
    "    \"\\nOnly the northern hemisphere is shown.\"\n",
    ")\n",
    "axs[0].set_ylim(0, 90)\n",
    "\n",
    "# NCEP: Target grid\n",
    "ds_ncep.cf.plot.scatter(x=\"longitude\", y=\"latitude\", s=1, ax=axs[1])\n",
    "axs[1].set_title(\"The target horizontal grid points\")\n",
    "axs[1].set_ylim(0, 90)\n",
    "\n",
    "fig.tight_layout()"
   ]
  },
  {
   "cell_type": "markdown",
   "id": "linear-client",
   "metadata": {},
   "source": [
    "We will regrid the sea ice data using the \"conservative\" method. Please refer to\n",
    "the `xESMF` documentation for details about the different algorithms. The\n",
    "important information here is that the \"conservative\" regridding algorithms\n",
    "requires the grid points coordinates, but also the grid _corners_ coordinates.\n",
    "While the target grid doesn't provide them, they are easily computable with the\n",
    "help of `cf-xarray`:\n"
   ]
  },
  {
   "cell_type": "code",
   "execution_count": null,
   "id": "trained-jefferson",
   "metadata": {},
   "outputs": [],
   "source": [
    "# Add the bounds to the spatial coordinates:\n",
    "ds_ncep = ds_ncep.cf.add_bounds([\"latitude\", \"longitude\"])\n",
    "ds_ncep"
   ]
  },
  {
   "cell_type": "markdown",
   "id": "dietary-storage",
   "metadata": {},
   "source": [
    "This was easy since the grid regular: latitude and longitude are 1D. Inferring\n",
    "bounds of 2D grids is not yet supported by `cf-xarray`:\n",
    "https://github.com/xarray-contrib/cf-xarray/issues/163\n",
    "\n",
    "Luckily, our sea ice data includes the corner coordaintes in the\n",
    "`vertices_latitude` and `vertices_longitude` variables. However, `xESMF` expects\n",
    "a format that is different from the CF convention followed here. No worries,\n",
    "`cf-xarray` has an helper method just for this:\n"
   ]
  },
  {
   "cell_type": "code",
   "execution_count": null,
   "id": "civil-sullivan",
   "metadata": {},
   "outputs": [],
   "source": [
    "# Get the bounds variable and convert them to \"vertices\" format\n",
    "# Order=none, means that we do not know if the bounds are\n",
    "# listed clockwise or counterclockwise, so we ask cf_xarray to try both.\n",
    "lat_corners = cfxr.bounds_to_vertices(\n",
    "    ds_cmip6_ice.vertices_latitude, \"vertices\", order=None\n",
    ")\n",
    "lon_corners = cfxr.bounds_to_vertices(\n",
    "    ds_cmip6_ice.vertices_longitude, \"vertices\", order=None\n",
    ")\n",
    "\n",
    "# We are using special variable names \"lon_b\" and \"lat_b\" for easier detection by xESMF\n",
    "ds_in = ds_cmip6_ice.assign(lon_b=lon_corners, lat_b=lat_corners)\n",
    "ds_in"
   ]
  },
  {
   "cell_type": "markdown",
   "id": "aggregate-enforcement",
   "metadata": {},
   "source": [
    "Finally, the regridding is performed with xESMF. Under the hood, it uses\n",
    "cf-xarray to get the coordinates and their bounds, so we do not need to worry\n",
    "about renaming here. The only exception is the input grid's corners, where we\n",
    "used hardcoded variable names because of the difference between xESMF's and CF's\n",
    "syntaxes for 2D grid bounds.\n"
   ]
  },
  {
   "cell_type": "code",
   "execution_count": null,
   "id": "damaged-unknown",
   "metadata": {},
   "outputs": [],
   "source": [
    "# Regrid\n",
    "regridder = xe.Regridder(ds_in, ds_ncep, \"conservative\")\n",
    "sic_reg = regridder(ds_in.cf[\"sea_ice_area_fraction\"])\n",
    "\n",
    "# Plot the results\n",
    "sic_reg.isel(time=0).plot()\n",
    "plt.title(\"Regridded sic data (Jan 2020)\")"
   ]
  }
 ],
 "metadata": {
  "kernelspec": {
   "display_name": "Python 3",
   "language": "python",
   "name": "python3"
  },
  "language_info": {
   "codemirror_mode": {
    "name": "ipython",
    "version": 3
   },
   "file_extension": ".py",
   "mimetype": "text/x-python",
   "name": "python",
   "nbconvert_exporter": "python",
   "pygments_lexer": "ipython3",
   "version": "3.9.4"
  },
  "toc": {
   "base_numbering": "1",
   "nav_menu": {},
   "number_sections": true,
   "sideBar": true,
   "skip_h1_title": false,
   "title_cell": "Table of Contents",
   "title_sidebar": "Contents",
   "toc_cell": true,
   "toc_position": {
    "height": "calc(100% - 180px)",
    "left": "10px",
    "top": "150px",
    "width": "312px"
   },
   "toc_section_display": true,
   "toc_window_display": true
  }
 },
 "nbformat": 4,
 "nbformat_minor": 5
}
