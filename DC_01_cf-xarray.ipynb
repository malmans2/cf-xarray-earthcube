{
 "cells": [
  {
   "cell_type": "markdown",
   "id": "295d12ff",
   "metadata": {},
   "source": [
    "# cf-xarray\n"
   ]
  },
  {
   "cell_type": "markdown",
   "id": "fa171216",
   "metadata": {},
   "source": [
    "## Author(s)\n",
    "\n",
    "- Author1 = {\"name\": \"name\", \"affiliation\": \"affiliation\", \"email\": \"email\",\n",
    "  \"orcid\": \"orcid\"}\n",
    "- Author2 = {\"name\": \"Mattia Almansi\", \"affiliation\": \"National Oceanography\n",
    "  Centre\", \"email\": \"mattia.almansi@noc.ac.uk\", \"orcid\": \"0000-0001-6849-3647\"}\n",
    "- Author3 = {\"name\": \"Pascal Bourgault\", \"affiliation\": \"Ouranos Inc.\", \"email\":\n",
    "  \"bourgault.pascal@ouranos.ca\"}\n"
   ]
  },
  {
   "cell_type": "markdown",
   "id": "e9e0de58",
   "metadata": {
    "toc": true
   },
   "source": [
    "<h1>Table of Contents<span class=\"tocSkip\"></span></h1>\n",
    "<div class=\"toc\"><ul class=\"toc-item\"><li><span><a href=\"#cf-xarray\" data-toc-modified-id=\"cf-xarray-1\"><span class=\"toc-item-num\">1&nbsp;&nbsp;</span>cf-xarray</a></span><ul class=\"toc-item\"><li><span><a href=\"#Author(s)\" data-toc-modified-id=\"Author(s)-1.1\"><span class=\"toc-item-num\">1.1&nbsp;&nbsp;</span>Author(s)</a></span></li><li><span><a href=\"#Purpose\" data-toc-modified-id=\"Purpose-1.2\"><span class=\"toc-item-num\">1.2&nbsp;&nbsp;</span>Purpose</a></span></li><li><span><a href=\"#Technical-contributions\" data-toc-modified-id=\"Technical-contributions-1.3\"><span class=\"toc-item-num\">1.3&nbsp;&nbsp;</span>Technical contributions</a></span></li><li><span><a href=\"#Methodology\" data-toc-modified-id=\"Methodology-1.4\"><span class=\"toc-item-num\">1.4&nbsp;&nbsp;</span>Methodology</a></span></li><li><span><a href=\"#Results\" data-toc-modified-id=\"Results-1.5\"><span class=\"toc-item-num\">1.5&nbsp;&nbsp;</span>Results</a></span></li><li><span><a href=\"#Funding\" data-toc-modified-id=\"Funding-1.6\"><span class=\"toc-item-num\">1.6&nbsp;&nbsp;</span>Funding</a></span></li><li><span><a href=\"#Keywords\" data-toc-modified-id=\"Keywords-1.7\"><span class=\"toc-item-num\">1.7&nbsp;&nbsp;</span>Keywords</a></span></li><li><span><a href=\"#Citation\" data-toc-modified-id=\"Citation-1.8\"><span class=\"toc-item-num\">1.8&nbsp;&nbsp;</span>Citation</a></span></li><li><span><a href=\"#Work-In-Progress---improvements\" data-toc-modified-id=\"Work-In-Progress---improvements-1.9\"><span class=\"toc-item-num\">1.9&nbsp;&nbsp;</span>Work In Progress - improvements</a></span></li><li><span><a href=\"#Suggested-next-steps\" data-toc-modified-id=\"Suggested-next-steps-1.10\"><span class=\"toc-item-num\">1.10&nbsp;&nbsp;</span>Suggested next steps</a></span></li><li><span><a href=\"#Acknowledgements\" data-toc-modified-id=\"Acknowledgements-1.11\"><span class=\"toc-item-num\">1.11&nbsp;&nbsp;</span>Acknowledgements</a></span></li></ul></li><li><span><a href=\"#Setup\" data-toc-modified-id=\"Setup-2\"><span class=\"toc-item-num\">2&nbsp;&nbsp;</span>Setup</a></span><ul class=\"toc-item\"><li><span><a href=\"#Library-import\" data-toc-modified-id=\"Library-import-2.1\"><span class=\"toc-item-num\">2.1&nbsp;&nbsp;</span>Library import</a></span></li></ul></li><li><span><a href=\"#Parameter-definitions\" data-toc-modified-id=\"Parameter-definitions-3\"><span class=\"toc-item-num\">3&nbsp;&nbsp;</span>Parameter definitions</a></span></li><li><span><a href=\"#Data-import\" data-toc-modified-id=\"Data-import-4\"><span class=\"toc-item-num\">4&nbsp;&nbsp;</span>Data import</a></span></li><li><span><a href=\"#Data-processing-and-analysis\" data-toc-modified-id=\"Data-processing-and-analysis-5\"><span class=\"toc-item-num\">5&nbsp;&nbsp;</span>Data processing and analysis</a></span><ul class=\"toc-item\"><li><span><a href=\"#Overview-of-cf-xarray\" data-toc-modified-id=\"Overview-of-cf-xarray-5.1\"><span class=\"toc-item-num\">5.1&nbsp;&nbsp;</span>Overview of cf-xarray</a></span><ul class=\"toc-item\"><li><span><a href=\"#Wrapped-functions\" data-toc-modified-id=\"Wrapped-functions-5.1.1\"><span class=\"toc-item-num\">5.1.1&nbsp;&nbsp;</span>Wrapped functions</a></span></li><li><span><a href=\"#Utility-functions\" data-toc-modified-id=\"Utility-functions-5.1.2\"><span class=\"toc-item-num\">5.1.2&nbsp;&nbsp;</span>Utility functions</a></span></li><li><span><a href=\"#Dictionaries-mapping-CF-keys-to-variable-names\" data-toc-modified-id=\"Dictionaries-mapping-CF-keys-to-variable-names-5.1.3\"><span class=\"toc-item-num\">5.1.3&nbsp;&nbsp;</span>Dictionaries mapping CF keys to variable names</a></span></li><li><span><a href=\"#Indexing-using-CF-keys\" data-toc-modified-id=\"Indexing-using-CF-keys-5.1.4\"><span class=\"toc-item-num\">5.1.4&nbsp;&nbsp;</span>Indexing using CF keys</a></span></li><li><span><a href=\"#Automagically-set-optional-arguments\" data-toc-modified-id=\"Automagically-set-optional-arguments-5.1.5\"><span class=\"toc-item-num\">5.1.5&nbsp;&nbsp;</span>Automagically set optional arguments</a></span></li><li><span><a href=\"#CF-keys-expansion\" data-toc-modified-id=\"CF-keys-expansion-5.1.6\"><span class=\"toc-item-num\">5.1.6&nbsp;&nbsp;</span>CF keys expansion</a></span></li></ul></li><li><span><a href=\"#Use-cases\" data-toc-modified-id=\"Use-cases-5.2\"><span class=\"toc-item-num\">5.2&nbsp;&nbsp;</span>Use cases</a></span><ul class=\"toc-item\"><li><span><a href=\"#Seamlessly-extract-statistics-from-CF-compliant-dataset\" data-toc-modified-id=\"Seamlessly-extract-statistics-from-CF-compliant-dataset-5.2.1\"><span class=\"toc-item-num\">5.2.1&nbsp;&nbsp;</span>Seamlessly extract statistics from CF-compliant dataset</a></span></li><li><span><a href=\"#Regridding-with-xESMF\" data-toc-modified-id=\"Regridding-with-xESMF-5.2.2\"><span class=\"toc-item-num\">5.2.2&nbsp;&nbsp;</span>Regridding with xESMF</a></span></li></ul></li></ul></li></ul></div>\n"
   ]
  },
  {
   "cell_type": "markdown",
   "id": "de379ace",
   "metadata": {},
   "source": [
    "## Purpose\n",
    "\n",
    "This notebook demonstrates how the use of the `cf-xarray` python package can\n",
    "help climate data scientists in the processing of multiple datasets from\n",
    "multiple sources, without need for knowledge of how the specific datasets are\n",
    "named, by using the well-established [CF convention](cfconventions.org/). This\n",
    "notebook is developed for Python 3.7+.\n",
    "\n",
    "## Technical contributions\n",
    "\n",
    "- developmnent of `cf-xarray`, as library that extends `xarray` with methods\n",
    "  aware of the CF convention.\n",
    "\n",
    "## Methodology\n",
    "\n",
    "Quickly describe assumptions and processing steps. Include URLs as necessary.\n",
    "\n",
    "Most cells in this notebook are markdown cells. They describe the expected\n",
    "content of the notebook, steps for formatting and sumitting notebooks, and\n",
    "relevant technologies. The proposed structure and procedures are based on\n",
    "community input and literature (see References)\n",
    "\n",
    "You can use this template as a visual guide, or configure your Jupyter\n",
    "installation such that every notebook opens with this template, in either short\n",
    "of long version. To enable opening notebooks with this template, see\n",
    "instructions for using the Template nbextension, in the Data Processing section.\n",
    "\n",
    "Markdown headings are automatically numbered and organized into a Table of\n",
    "Contents (ToC) using the toc2 nbextenion. See instructions in the Data\n",
    "Processing section.\n",
    "\n",
    "## Results\n",
    "\n",
    "Describe and comment on the most important results. Include images and URLs as\n",
    "necessary.\n",
    "\n",
    "This template presents the general structure of notebooks expected by EarthCube,\n",
    "along with recommendations for additional resources to be created to ensure that\n",
    "the notebook is easy to re-use.\n",
    "\n",
    "## Funding\n",
    "\n",
    "Include references to awards that supported this research. Add as many award\n",
    "references as you need.\n",
    "\n",
    "- Award1 = {\"agency\": \"US National Science Foundation\", \"award_code\": \"1928208\",\n",
    "  \"award_URL\": \"https://www.nsf.gov/awardsearch/showAward?AWD_ID=1928208\"}\n",
    "- Award2 = {\"agency\": \"agency\", \"award_code\": \"award_code\", \"award_URL\":\n",
    "  \"award_URL\"}\n",
    "- Award3 = ...\n",
    "\n",
    "## Keywords\n",
    "\n",
    "Include up to 5 keywords, using the template below.\n",
    "\n",
    "keywords=[\"keyword1\", \"keyword2\", \"keyword3\", \"keyword4\", \"keyword5\"]\n",
    "\n",
    "## Citation\n",
    "\n",
    "Include recommended citation for the notebook.\n",
    "\n",
    "For example: EarthCube Office, 2021. EarthCube Notebook Template. Accessed\n",
    "2/1/2021 at https://github.com/earthcube/NotebookTemplates\n",
    "\n",
    "## Work In Progress - improvements\n",
    "\n",
    "Use this section only if the notebook is not final.\n",
    "\n",
    "Notable TODOs:\n",
    "\n",
    "- todo 1;\n",
    "- todo 2;\n",
    "- todo 3.\n",
    "\n",
    "Notable TODOs:\n",
    "\n",
    "- develop similar template for R, and possibly other languages [7];\n",
    "\n",
    "## Suggested next steps\n",
    "\n",
    "State suggested next steps, based on results obtained in this notebook. This\n",
    "section is optional.\n",
    "\n",
    "## Acknowledgements\n",
    "\n",
    "Include any relevant acknowledgements, apart from funding (which was in section\n",
    "1.6)\n",
    "\n",
    "This notebook template extends the original notebook template provided with the\n",
    "jupytemplate extension [5]. It is a result of collaboration between the TAC\n",
    "Working Group and the EarthCube Office.\n",
    "\n",
    "The template is licensed under a\n",
    "<a href=\"http://creativecommons.org/licenses/by/4.0/\">Creative Commons\n",
    "Attribution 4.0 International License.</a>\n"
   ]
  },
  {
   "cell_type": "markdown",
   "id": "4560238d",
   "metadata": {},
   "source": [
    "# Setup\n",
    "\n",
    "## Library import\n"
   ]
  },
  {
   "cell_type": "code",
   "execution_count": null,
   "id": "1353ef7d",
   "metadata": {},
   "outputs": [],
   "source": [
    "# The package demonstrated here\n",
    "import cf_xarray as cfxr\n",
    "\n",
    "# For loading shared data\n",
    "import intake\n",
    "\n",
    "# For basic data manipulation\n",
    "import numpy as np\n",
    "import xarray as xr\n",
    "\n",
    "# For regridding\n",
    "import xesmf as xe\n",
    "\n",
    "# Visualizations\n",
    "import matplotlib.pyplot as plt\n",
    "\n",
    "# Dask config\n",
    "import dask\n",
    "\n",
    "dask.config.set(**{\"array.slicing.split_large_chunks\": False})"
   ]
  },
  {
   "cell_type": "markdown",
   "id": "7ad70273",
   "metadata": {},
   "source": [
    "# Parameter definitions\n"
   ]
  },
  {
   "cell_type": "code",
   "execution_count": null,
   "id": "cdaae12b",
   "metadata": {},
   "outputs": [],
   "source": [
    "# Paths and urls pointing to data\n",
    "MOM6_GRID_PATH = \"./data/ocean_grid_sym_OM4_05.nc\"\n",
    "MOM6_DATA_URL = \"http://35.188.34.63:8080/thredds/dodsC/OM4p5/ocean_monthly_z.200301-200712.nc4\"\n",
    "CMIP6_OCE_CATALOG = \"https://storage.googleapis.com/cmip6/pangeo-cmip6.json\"\n",
    "CMIP6_OCE_EXPERIMENT = dict(\n",
    "    table_id=\"Omon\",\n",
    "    grid_label=\"gn\",\n",
    "    source_id=\"GFDL-CM4\",\n",
    "    experiment_id=[\"historical\"],\n",
    "    variable_id=[\"thetao\", \".*cello\"],\n",
    ")\n",
    "CMIP6_ICE_PATH = \"data/sic_SImon_CCCma-CanESM5_ssp245_r13i1p2f1_2020.nc\"\n",
    "ncep_PATH = \"data/air_temperature.nc\""
   ]
  },
  {
   "cell_type": "markdown",
   "id": "c2bdff20",
   "metadata": {},
   "source": [
    "# Data import\n",
    "\n",
    "This notebook uses a variety of publicly available data:\n",
    "\n",
    "- `ds_mom6`: Data from the Modular Ocean Model - v6\n",
    "- `ds_cmip6_oce`: Ocean Data from the Climate Model Intercomparison Project -\n",
    "  Phase 6\n",
    "- `ds_cmip6_ice_ice`: Ice Data from the Climate Model Intercomparison Project -\n",
    "  Phase 6\n",
    "- `ds_ncep`: Data from the National Centers for Atmospheric Prediction\n",
    "  Reanalysis\n"
   ]
  },
  {
   "cell_type": "code",
   "execution_count": null,
   "id": "1cc5175c",
   "metadata": {},
   "outputs": [],
   "source": [
    "def assign_coordinates_and_cell_measures(ds):\n",
    "\n",
    "    \"\"\"\n",
    "    Functions to add missing CF metadata (coordinates and cell measures).\n",
    "    Fully CF-compliant datasets do not need this pre-processing.\n",
    "    Functions to automatically assign missing coordinates\n",
    "    and measures metadata will be implemented in cf_xarray.\n",
    "    See https://github.com/xarray-contrib/cf-xarray/issues/201\n",
    "\n",
    "    Parameters\n",
    "    ==========\n",
    "    ds: xarray.Dataset\n",
    "        Dataset to modify\n",
    "    \"\"\"\n",
    "\n",
    "    for varname, variable in ds.data_vars.items():\n",
    "\n",
    "        # Add coordinates attribute\n",
    "        coordinates = []\n",
    "        for coord in sum(ds.cf.coordinates.values(), []):\n",
    "            if set(ds[coord].dims) <= set(variable.dims):\n",
    "                coordinates.append(coord)\n",
    "        if coordinates:\n",
    "            variable.attrs[\"coordinates\"] = \" \".join(coordinates)\n",
    "        else:\n",
    "            variable.attrs.pop(\"coordinates\", None)\n",
    "\n",
    "        # Add cell_measures attribute\n",
    "        cell_measures = {}\n",
    "        for stdname in {\"cell_thickness\", \"cell_area\", \"ocean_volume\"} & set(\n",
    "            ds.cf.standard_names\n",
    "        ):\n",
    "            key = stdname.split(\"_\")[-1]\n",
    "            value = ds.cf.standard_names[stdname]\n",
    "            for measure in value:\n",
    "                if (\n",
    "                    set(ds[measure].dims) <= set(variable.dims)\n",
    "                    and measure != varname\n",
    "                ):\n",
    "                    cell_measures[key] = measure\n",
    "        if cell_measures:\n",
    "            variable.attrs[\"cell_measures\"] = \" \".join(\n",
    "                [f\"{k}: {v}\" for k, v in cell_measures.items()]\n",
    "            )\n",
    "        else:\n",
    "            variable.attrs.pop(\"cell_measures\", None)\n",
    "\n",
    "\n",
    "# MOM6\n",
    "# Open grid and variables, then merge\n",
    "grid = xr.open_dataset(MOM6_GRID_PATH, chunks={})\n",
    "ds = xr.open_dataset(\n",
    "    MOM6_DATA_URL,\n",
    "    chunks={\"time\": 1},\n",
    ")\n",
    "ds_mom6 = xr.merge([grid, ds], compat=\"override\")\n",
    "\n",
    "# Illustrate the equivalent of a curvilinear grid case,\n",
    "# where axes and coordinates are different\n",
    "axes = [\"xh\", \"xq\", \"yh\", \"yq\"]\n",
    "ds_mom6 = ds_mom6.drop_vars(axes)\n",
    "ds_mom6 = ds_mom6.assign_coords({axis: ds_mom6[axis] for axis in axes})\n",
    "ds_mom6 = ds_mom6.set_coords(\n",
    "    [\n",
    "        var\n",
    "        for var in ds_mom6.variables\n",
    "        for prefix in [\"geo\"]\n",
    "        if var.startswith(prefix)\n",
    "    ]\n",
    ")\n",
    "assign_coordinates_and_cell_measures(ds_mom6)\n",
    "\n",
    "# CMIP6 Ocean\n",
    "col = intake.open_esm_datastore(CMIP6_OCE_CATALOG)\n",
    "cat = col().search(**CMIP6_OCE_EXPERIMENT)\n",
    "ddict = cat.to_dataset_dict(\n",
    "    zarr_kwargs={\n",
    "        \"consolidated\": True,\n",
    "        \"decode_times\": True,\n",
    "        \"use_cftime\": True,\n",
    "    }\n",
    ")\n",
    "_, ds_cmip6_oce = ddict.popitem()\n",
    "assign_coordinates_and_cell_measures(ds_cmip6_oce)\n",
    "\n",
    "# CMIP6 Ice\n",
    "ds_cmip6_ice = xr.open_dataset(CMIP6_ICE_PATH)\n",
    "\n",
    "# ncep\n",
    "ds_ncep = xr.tutorial.open_dataset(ncep_PATH)"
   ]
  },
  {
   "cell_type": "markdown",
   "id": "5892112b",
   "metadata": {},
   "source": [
    "# Data processing and analysis\n"
   ]
  },
  {
   "cell_type": "markdown",
   "id": "d4d97f9a",
   "metadata": {},
   "source": [
    "## Overview of cf-xarray\n"
   ]
  },
  {
   "cell_type": "markdown",
   "id": "07c6c6ce",
   "metadata": {},
   "source": [
    "### Wrapped functions\n",
    "\n",
    "When `cf_xarray` is imported, the `cf` accessor is automatically added to any\n",
    "`xarray` object.  \n",
    "`cf_xarray` is able to wrap most of `xarray` functions.\n"
   ]
  },
  {
   "cell_type": "code",
   "execution_count": null,
   "id": "f08bb4a7",
   "metadata": {},
   "outputs": [],
   "source": [
    "# cf_xarray accessor has been added to the xarray object\n",
    "assert hasattr(ds_mom6, \"cf\")\n",
    "\n",
    "# For example, we can apply mean along any dimensions using either xarray or cf_xarray.\n",
    "# cf_xarray adds the understanding of CF conventions.\n",
    "# Therefore, .cf.mean() accepts either dimensions names or CF keys.\n",
    "for obj in [ds_mom6, ds_mom6.cf]:\n",
    "    assert hasattr(obj, \"mean\")"
   ]
  },
  {
   "cell_type": "markdown",
   "id": "946dc815",
   "metadata": {},
   "source": [
    "### Utility functions\n",
    "\n",
    "`cf_xarray` also adds several utility functions to work with CF metadata.  \n",
    "For example, in the cell below, we use `cf_xarray` to identify, guess, and add\n",
    "missing CF metadata.\n"
   ]
  },
  {
   "cell_type": "code",
   "execution_count": null,
   "id": "6130af8a",
   "metadata": {},
   "outputs": [],
   "source": [
    "ds_mom6 = ds_mom6.cf.guess_coord_axis(verbose=True)"
   ]
  },
  {
   "cell_type": "markdown",
   "id": "b03b9461",
   "metadata": {},
   "source": [
    "### Dictionaries mapping CF keys to variable names\n",
    "\n",
    "The example object contains variables lying on staggered grids.  \n",
    "Therefore, a CF key can be associated with multiple variables.  \n",
    "`cf_xarray` provides several dictionaries mapping CF keys to lists of variable\n",
    "names, such as:\n",
    "\n",
    "- `.cf.axes`\n",
    "- `.cf.coordinates`\n",
    "- `.cf.cell_measures`\n",
    "- `.cf.standard_names`\n",
    "- `.cf.bounds`\n",
    "\n",
    "The representation of `cf_xarray` accessor is a handy tool to explore all CF\n",
    "metadata.\n"
   ]
  },
  {
   "cell_type": "code",
   "execution_count": null,
   "id": "bd357d97",
   "metadata": {},
   "outputs": [],
   "source": [
    "ds_mom6.cf"
   ]
  },
  {
   "cell_type": "markdown",
   "id": "02b0b404",
   "metadata": {},
   "source": [
    "### Indexing using CF keys\n",
    "\n",
    "CF metadata precisely describes the physical quantities being represented by all\n",
    "variables.\n"
   ]
  },
  {
   "cell_type": "code",
   "execution_count": null,
   "id": "905ba874",
   "metadata": {},
   "outputs": [],
   "source": [
    "# Extract oceanic bathymetry using the appropriate standard name\n",
    "xr_da = ds_mom6[\"deptho\"]\n",
    "cf_da = ds_mom6.cf[\"sea_floor_depth_below_geoid\"]\n",
    "cf_da"
   ]
  },
  {
   "cell_type": "markdown",
   "id": "1a772243",
   "metadata": {},
   "source": [
    "`cf_xarray` decodes CF metadata linking variables with each other (e.g.,\n",
    "`coordinates`, `cell_measures`, `ancillary_variables`).  \n",
    "As opposed to `xr_da`, `cf_da` extracted in the previous cell contains all\n",
    "`cell_measures` associated with the variable extracted.\n"
   ]
  },
  {
   "cell_type": "code",
   "execution_count": null,
   "id": "073cb82b",
   "metadata": {},
   "outputs": [],
   "source": [
    "additional_coords = set(cf_da.coords) - set(xr_da.coords)\n",
    "print(\"Cell measure extracted by cf_xarray:\", additional_coords)\n",
    "ds_mom6[list(additional_coords)[0]]"
   ]
  },
  {
   "cell_type": "markdown",
   "id": "bab9652d",
   "metadata": {},
   "source": [
    "### Automagically set optional arguments\n",
    "\n",
    "`cf_xarray` sets some of the optional keyword arguments of wrapped functions.  \n",
    "As opposed to `xarray`, in the example below `cf_xarray` assigns the appropriate\n",
    "coordinates to the plot axes (i.e., longitude and latitude).\n"
   ]
  },
  {
   "cell_type": "code",
   "execution_count": null,
   "id": "2edab9a7",
   "metadata": {},
   "outputs": [],
   "source": [
    "fig, (xr_ax, cf_ax) = plt.subplots(1, 2, figsize=(12, 4))\n",
    "\n",
    "# xarray plot\n",
    "xr_da.plot(ax=xr_ax)\n",
    "xr_ax.set_title(\"xarray\")\n",
    "# cf_xarray plot\n",
    "cf_da.cf.plot(ax=cf_ax)\n",
    "cf_ax.set_title(\"cf_xarray\")\n",
    "\n",
    "plt.tight_layout()"
   ]
  },
  {
   "cell_type": "markdown",
   "id": "2c4679aa",
   "metadata": {},
   "source": [
    "### CF keys expansion\n",
    "\n",
    "As mentioned above, the example dataset is characterized by multiple dimensions\n",
    "associated with the same spatial axes.  \n",
    "Such information is decoded by `cf_xarray` and is used under the hood of wrapped\n",
    "functions.  \n",
    "In the example below, the CF Axes keys (i.e., \"X\", \"Y\", and \"Z\") are expanded\n",
    "and multiple dimensions are sliced at once:\n"
   ]
  },
  {
   "cell_type": "code",
   "execution_count": null,
   "id": "0f377fbe",
   "metadata": {},
   "outputs": [],
   "source": [
    "ds_mom6_sliced = ds_mom6.cf.isel(\n",
    "    X=slice(10), Y=slice(10), Z=slice(10), T=slice(10)\n",
    ")\n",
    "print(\"Original dataset sizes:\", dict(ds_mom6.sizes))\n",
    "print(\"  Sliced dataset sizes:\", dict(ds_mom6_sliced.sizes))"
   ]
  },
  {
   "cell_type": "markdown",
   "id": "cbc45324",
   "metadata": {},
   "source": [
    "## Use cases\n"
   ]
  },
  {
   "cell_type": "markdown",
   "id": "e3cab17f",
   "metadata": {},
   "source": [
    "### Seamlessly extract statistics from CF-compliant dataset\n",
    "\n",
    "One of the advantages of using `cf_xarray` is that the same code can be applied\n",
    "to a wide variety of CF compliant objects that each has their own\n",
    "nomenclature.  \n",
    "In the example below, we define a function that uses many `cf_xarray` features,\n",
    "then we apply to objects with different dimension and coordinate names.\n"
   ]
  },
  {
   "cell_type": "code",
   "execution_count": null,
   "id": "67ee08b0",
   "metadata": {},
   "outputs": [],
   "source": [
    "def plot_top_10m_temp_anomaly(ds, **kwargs):\n",
    "\n",
    "    # Compute and plot line\n",
    "    with xr.set_options(keep_attrs=True):\n",
    "        # Extract temperature using\n",
    "        da = ds.cf[\"sea_water_potential_temperature\"]\n",
    "        # Fill wights missing values with zeros\n",
    "        da = da.cf.assign_coords(volume=da.cf.coords[\"volume\"].fillna(0))\n",
    "        # Select temperature in the top 10m in 2003\n",
    "        da = da.cf.sel(T=\"2003\", Z=slice(0, 10))\n",
    "        # Compute weighted mean\n",
    "        da = da.cf.weighted(\"volume\").mean([\"X\", \"Y\", \"Z\"])\n",
    "        # Subtract climatology\n",
    "        da = da - da.cf.mean(\"T\")\n",
    "\n",
    "    # Update metadata\n",
    "    da.attrs[\"standard_name\"] += \"_anomaly\"\n",
    "    da.attrs[\"long_name\"] += \" Anomaly\"\n",
    "\n",
    "    # Plot\n",
    "    da.squeeze(drop=True).cf.plot(**kwargs)\n",
    "\n",
    "\n",
    "plot_top_10m_temp_anomaly(ds_mom6, label=\"ds_mom6\")\n",
    "plot_top_10m_temp_anomaly(ds_cmip6_oce, label=\"ds_cmip6_oce\")\n",
    "_ = plt.legend()"
   ]
  },
  {
   "cell_type": "markdown",
   "id": "c5f21b17",
   "metadata": {},
   "source": [
    "Alternatively, `cf_xarray` provides utility functions to rename variables and\n",
    "dimensions in one object to match another object.  \n",
    "Matching variables/dimensions are determined using CF metadata.\n"
   ]
  },
  {
   "cell_type": "code",
   "execution_count": null,
   "id": "4b3220f3",
   "metadata": {},
   "outputs": [],
   "source": [
    "mom6_da = ds_mom6.cf[\"sea_water_potential_temperature\"]\n",
    "cmip6_da = ds_cmip6_oce.cf[\"sea_water_potential_temperature\"]\n",
    "renamed_mom6_da = mom6_da.cf.rename_like(cmip6_da)\n",
    "print(\"        MOM6 dimensions:\", mom6_da.dims)\n",
    "print(\"       CMIP6 dimensions:\", cmip6_da.dims)\n",
    "print(\"renamed MOM6 dimensions:\", renamed_mom6_da.dims)"
   ]
  },
  {
   "cell_type": "markdown",
   "id": "6ac94c6e",
   "metadata": {},
   "source": [
    "### Regridding with xESMF\n",
    "\n",
    "`cf-xarray` is used by [`xESMF`](https://pangeo-xesmf.readthedocs.io), a\n",
    "regridding package, wrapping the powerful Fortran libray \"ESMF\".  \n",
    "This example will regrid sea ice concentration data extracted from the\n",
    "CCCma-CanESM5 model, a participant in the CMIP6 experiment.\n",
    "\n",
    "Our sea ice data comes in a tripolar grid.  \n",
    "Note the use of the `.cf` in the plotting section, it allows the use of the\n",
    "coordinate and variable _standard_ names, no matter what variable names they\n",
    "were provided in.\n",
    "\n",
    "The target grid is the NCEP reanalysis dataset that ships with xarray. It has a\n",
    "regular grid.\n"
   ]
  },
  {
   "cell_type": "code",
   "execution_count": null,
   "id": "f62949dc",
   "metadata": {},
   "outputs": [],
   "source": [
    "# Let's look at the grid shape itself and the data for one time step\n",
    "fig, axs = plt.subplots(ncols=2, figsize=(12, 4))\n",
    "\n",
    "# Notice how with .cf we will use the same keyword arguments\n",
    "# Although here we explicitely pass the coordinate standard names for the plot axes,\n",
    "# cf_xarray default scatter plot would produce the same results.\n",
    "scatter_kwargs = dict(x=\"longitude\", y=\"latitude\", s=0.1)\n",
    "\n",
    "# CMIP6: Input grid\n",
    "ds_cmip6_ice.cf.plot.scatter(**scatter_kwargs, ax=axs[0])\n",
    "axs[0].set_title(\n",
    "    \"The input horizontal grid points as seen on a lat/lon map.\"\n",
    "    \"\\nOnly the northern hemisphere is shown.\"\n",
    ")\n",
    "axs[0].set_ylim(0, 90)\n",
    "\n",
    "# NCEP: Target grid\n",
    "ds_ncep.cf.plot.scatter(x=\"longitude\", y=\"latitude\", s=1, ax=axs[1])\n",
    "axs[1].set_title(\"The target horizontal grid points\")\n",
    "axs[1].set_ylim(0, 90)\n",
    "\n",
    "fig.tight_layout()"
   ]
  },
  {
   "cell_type": "markdown",
   "id": "fb54029e",
   "metadata": {},
   "source": [
    "We will regrid the sea ice data using the \"conservative\" method.  \n",
    "Please refer to the `xESMF` documentation for details about the different\n",
    "algorithms.  \n",
    "The important information here is that the \"conservative\" regridding algorithms\n",
    "requires the grid points coordinates, but also the grid _corners_ coordinates.  \n",
    "While the target grid doesn't provide them, they are easily computable with the\n",
    "help of `cf-xarray`:\n"
   ]
  },
  {
   "cell_type": "code",
   "execution_count": null,
   "id": "67e7da80",
   "metadata": {},
   "outputs": [],
   "source": [
    "# Add the bounds to the spatial coordinates:\n",
    "ds_ncep = ds_ncep.cf.add_bounds([\"latitude\", \"longitude\"])\n",
    "ds_ncep"
   ]
  },
  {
   "cell_type": "markdown",
   "id": "9650a054",
   "metadata": {},
   "source": [
    "This was easy since the grid regular: latitude and longitude are 1D.  \n",
    "Inferring bounds of 2D grids is not yet supported by `cf-xarray`:\n",
    "https://github.com/xarray-contrib/cf-xarray/issues/163\n",
    "\n",
    "Luckily, our sea ice data includes the corner coordaintes in the\n",
    "`vertices_latitude` and `vertices_longitude` variables.  \n",
    "However, `xESMF` expects a format that is different from the CF convention\n",
    "followed here.  \n",
    "No worries, `cf-xarray` has an helper method just for this:\n"
   ]
  },
  {
   "cell_type": "code",
   "execution_count": null,
   "id": "0d704cee",
   "metadata": {},
   "outputs": [],
   "source": [
    "# Get the bounds variable and convert them to \"vertices\" format\n",
    "# Order=none, means that we do not know if the bounds are\n",
    "# listed clockwise or counterclockwise, so we ask cf_xarray to try both.\n",
    "lat_corners = cfxr.bounds_to_vertices(\n",
    "    ds_cmip6_ice.vertices_latitude, \"vertices\", order=None\n",
    ")\n",
    "lon_corners = cfxr.bounds_to_vertices(\n",
    "    ds_cmip6_ice.vertices_longitude, \"vertices\", order=None\n",
    ")\n",
    "\n",
    "# We are using special variable names \"lon_b\" and \"lat_b\" for easier detection by xESMF\n",
    "ds_in = ds_cmip6_ice.assign(lon_b=lon_corners, lat_b=lat_corners)\n",
    "ds_in"
   ]
  },
  {
   "cell_type": "markdown",
   "id": "f8005657",
   "metadata": {},
   "source": [
    "Finally, the regridding is performed with xESMF.  \n",
    "Under the hood, it uses cf-xarray to get the coordinates and their bounds, so we\n",
    "do not need to worry about renaming here.  \n",
    "The only exception is the input grid's corners, where we used hardcoded variable\n",
    "names because of the difference between xESMF's and CF's syntaxes for 2D grid\n",
    "bounds.\n"
   ]
  },
  {
   "cell_type": "code",
   "execution_count": null,
   "id": "42242385",
   "metadata": {},
   "outputs": [],
   "source": [
    "# Regrid\n",
    "regridder = xe.Regridder(ds_in, ds_ncep, \"conservative\")\n",
    "sic_reg = regridder(ds_in.cf[\"sea_ice_area_fraction\"])\n",
    "\n",
    "# Plot the results\n",
    "sic_reg.isel(time=0).plot()\n",
    "plt.title(\"Regridded sic data (Jan 2020)\")"
   ]
  }
 ],
 "metadata": {
  "kernelspec": {
   "display_name": "Python 3",
   "language": "python",
   "name": "python3"
  },
  "language_info": {
   "codemirror_mode": {
    "name": "ipython",
    "version": 3
   },
   "file_extension": ".py",
   "mimetype": "text/x-python",
   "name": "python",
   "nbconvert_exporter": "python",
   "pygments_lexer": "ipython3",
   "version": "3.7.8"
  },
  "toc": {
   "base_numbering": "1",
   "nav_menu": {},
   "number_sections": true,
   "sideBar": true,
   "skip_h1_title": false,
   "title_cell": "Table of Contents",
   "title_sidebar": "Contents",
   "toc_cell": true,
   "toc_position": {},
   "toc_section_display": true,
   "toc_window_display": true
  }
 },
 "nbformat": 4,
 "nbformat_minor": 5
}
